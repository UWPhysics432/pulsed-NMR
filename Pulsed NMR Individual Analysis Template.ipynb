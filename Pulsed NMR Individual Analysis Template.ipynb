{
 "cells": [
  {
   "cell_type": "markdown",
   "metadata": {},
   "source": [
    "# Pulsed NMR Individual Analysis\n",
    "\n",
    "Use this template to carry out the analysis tasks for the Noise experiment.  For reference, here are links to recommended Python resources: the [Whirlwind Tour of Python](https://jakevdp.github.io/WhirlwindTourOfPython/) and the [Python Data Science Handbook](https://jakevdp.github.io/PythonDataScienceHandbook/) both by Jake VanderPlas.\n",
    "\n",
    "There is no need to calculate uncertainties for this analysis.  The goals here are only to see and understand general trends.  You may want to use the [LMFit](https://lmfit.github.io/lmfit-py/) package."
   ]
  },
  {
   "cell_type": "code",
   "execution_count": 2,
   "metadata": {},
   "outputs": [],
   "source": [
    "# Run this cell with Shift-Enter, and wait until the asterisk changes to a number, i.e., [*] becomes [1]\n",
    "import numpy as np\n",
    "import scipy.constants as const\n",
    "# import uncertainties as unc\n",
    "import matplotlib.pyplot as plt\n",
    "import pandas as pd\n",
    "%matplotlib inline"
   ]
  },
  {
   "cell_type": "markdown",
   "metadata": {},
   "source": [
    "## Prior to working on this notebook:\n",
    "\n",
    "1. Obtain the measurements of $T_1$ and $T_2$ half-life times for the series of measurements taken from Experiment 2, the effects of paramagnetic ions on the decay constants.  The data are ordered in terms of dilution \"number\".\n",
    "\n",
    "2. Obtain the measurements of the delay times versus echo amplitudes from Experiment 3.  The data should be in a simple .csv spreadsheet.\n",
    "\n",
    "### Then...\n",
    "3. Import the data tables for each experiment.\n",
    "\n",
    "### For Experiment 2:\n",
    "\n",
    "4. Convert the \"dilution number\" to ion concentration in moles/liter (\"molarity\").  See below for details.\n",
    "\n",
    "5. Convert the half-life times to $T_1$, $T_2$ values.\n",
    "\n",
    "6. Plot $T_1$, and $T_2$ versus concentration on the same graph.  Select axis types (linear or log) to make the relationship look like a line.  \n",
    "\n",
    "7. in your group document, compare your graph to the results reported by Hahn.\n",
    "\n",
    "### For Experiment 3:\n",
    "\n",
    "8. Convert the delay times to echo-position times.  (What is the relationship between the time of the B pulse and the echo produced by it?)\n",
    "\n",
    "9. Plot the echo amplitudes versus echo times.\n",
    "\n",
    "10. Fit the data set to the function given in the instructions on page 25 and 26 to obtain the constant $K$.  For $T_2$ use the result for water, and fix it so that it does not get adjusted by the fitting routine.\n",
    "\n"
   ]
  },
  {
   "cell_type": "markdown",
   "metadata": {},
   "source": [
    "## Import data tables\n",
    "\n",
    "Display them so that you know they are correct."
   ]
  },
  {
   "cell_type": "code",
   "execution_count": null,
   "metadata": {},
   "outputs": [],
   "source": []
  },
  {
   "cell_type": "code",
   "execution_count": null,
   "metadata": {},
   "outputs": [],
   "source": []
  },
  {
   "cell_type": "markdown",
   "metadata": {},
   "source": [
    "## Experiment 2\n",
    "\n",
    "### Massage the collected data\n",
    "\n",
    "Convert the measured half-life times to $T_1$ and $T_2$ values, and convert the **Dilution number** to concentration.\n",
    "\n",
    "Each **Dilution number** represents a dilution by a factor of 4 (i.e., one drop of solution mixed with 3 drops of pure water).  So of the original concentration is $C_0$, the first dilution is $C_0/4$ the second dilution is $C_0/4^2$, and in general the $n\\,$th dilution is $C_0/4^n$.\n",
    "\n",
    "The compound used in solution is Cupric Sulfate, 5-Hydrate (CuSO<sub>4</sub>$\\cdot$5H<sub>2</sub>O) which has a formula weight of 249.68 g/mol and a slubility of 32 g/100ml of water at 20C.  Calculate the concentration in molarity (mol/liter) of the copper ions."
   ]
  },
  {
   "cell_type": "code",
   "execution_count": null,
   "metadata": {},
   "outputs": [],
   "source": []
  },
  {
   "cell_type": "markdown",
   "metadata": {},
   "source": [
    "### Plot it\n",
    "\n",
    "Make a plot that shows the relationship as a line (or close to it), by adjusting the axis types used to make the plot.\n",
    "\n",
    "To see how to change the axis types, look here: [pyplot.xscale()](https://matplotlib.org/stable/api/_as_gen/matplotlib.pyplot.xscale.html#matplotlib.pyplot.xscale)"
   ]
  },
  {
   "cell_type": "code",
   "execution_count": null,
   "metadata": {},
   "outputs": [],
   "source": [
    "\n"
   ]
  },
  {
   "cell_type": "markdown",
   "metadata": {},
   "source": [
    "## Experiment 3: diffusion study\n",
    "\n",
    "### Massage the collected data\n",
    "\n",
    "Rescale the **Delay_time** data to give the echo-position time."
   ]
  },
  {
   "cell_type": "code",
   "execution_count": null,
   "metadata": {},
   "outputs": [],
   "source": []
  },
  {
   "cell_type": "markdown",
   "metadata": {},
   "source": [
    "### Plot it\n",
    "\n",
    "Plot the echo peak voltage vs. echo-position time."
   ]
  },
  {
   "cell_type": "code",
   "execution_count": null,
   "metadata": {},
   "outputs": [],
   "source": []
  },
  {
   "cell_type": "markdown",
   "metadata": {},
   "source": [
    "###  Fit it\n",
    "\n",
    "Use the LMFit Model class to fit the data to equation (15) in the instructions.  In this data set the number of pulses between the first FID and the echo, $n=1$.  In your fit function, set the value of $T_2$ to be a constant (not a parameter that is adjustable by the fit), and set it to the $T_2$ value obtained for pure water.\n",
    "\n",
    "Hint: to estimate a starting value for $K$, calculate the value of the function for the time $t$ at which it is half the height it is at $t=0$.  This is like a \"half-life\" even though the decay is not a simple exponential."
   ]
  },
  {
   "cell_type": "code",
   "execution_count": 1,
   "metadata": {},
   "outputs": [],
   "source": [
    "## Define the fit function\n",
    "\n",
    "\n",
    "## pull in the Model class and set up the fit\n",
    "\n",
    "from lmfit import Model\n",
    "\n",
    "## Fit and plot\n"
   ]
  },
  {
   "cell_type": "markdown",
   "metadata": {},
   "source": [
    "### Optional: Estimate the self-diffusion constant of water\n",
    "\n",
    "According to equation (16) in the instructions, \n",
    "\n",
    "$$ K = \\frac{\\gamma^2}{12}\\left(\\frac{\\partial B_0}{\\partial z}\\right)^2 D$$\n",
    "\n",
    "and $\\gamma\\Delta B_0 = \\Delta\\omega_0$, the spread of precession frequencies that determines $T_2^*$.  From this information and the width of the simple free induction decay, you can use the result for $K$ to estimate $D$ the diffusion constant for water (at room temperature).\n",
    "\n",
    "Try this, and compare your result against Hahn's: [Hahn, E. L., \"Spin echoes\", Phys. Rev., 80, 580-594 (1950)](http://courses.washington.edu/phys431/restricted/Hahn_PR80.pdf), p. 589."
   ]
  },
  {
   "cell_type": "code",
   "execution_count": null,
   "metadata": {},
   "outputs": [],
   "source": []
  }
 ],
 "metadata": {
  "kernelspec": {
   "display_name": "Python 3",
   "language": "python",
   "name": "python3"
  },
  "language_info": {
   "codemirror_mode": {
    "name": "ipython",
    "version": 3
   },
   "file_extension": ".py",
   "mimetype": "text/x-python",
   "name": "python",
   "nbconvert_exporter": "python",
   "pygments_lexer": "ipython3",
   "version": "3.7.3"
  }
 },
 "nbformat": 4,
 "nbformat_minor": 2
}
